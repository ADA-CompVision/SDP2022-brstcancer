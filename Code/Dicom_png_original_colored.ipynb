{
 "cells": [
  {
   "cell_type": "code",
   "execution_count": 2,
   "metadata": {},
   "outputs": [
    {
     "name": "stdout",
     "output_type": "stream",
     "text": [
      "Collecting opencv-python\n",
      "  Using cached opencv_python-4.7.0.72-cp37-abi3-win_amd64.whl (38.2 MB)\n",
      "Requirement already satisfied: numpy>=1.17.0 in c:\\users\\user\\anaconda3\\lib\\site-packages (from opencv-python) (1.18.1)\n",
      "Installing collected packages: opencv-python\n",
      "Successfully installed opencv-python-4.7.0.72\n"
     ]
    }
   ],
   "source": [
    "#!pip install opencv-python"
   ]
  },
  {
   "cell_type": "code",
   "execution_count": 3,
   "metadata": {},
   "outputs": [],
   "source": [
    "import pydicom\n",
    "from pydicom import dcmread\n",
    "import cv2\n",
    "import numpy as np\n",
    "from matplotlib import pyplot as plt \n",
    "from PIL import Image\n",
    "import os.path\n",
    "import pandas as pd\n",
    "from os import listdir\n",
    "from os.path import isfile, join\n",
    "import warnings\n",
    "import os\n",
    "from PIL import Image, ImageEnhance\n",
    "import matplotlib.pyplot as plt"
   ]
  },
  {
   "cell_type": "code",
   "execution_count": 8,
   "metadata": {},
   "outputs": [],
   "source": [
    "def dicom_to_png(ds):\n",
    "    fn_name = ds.split('/')[-1][:-4]\n",
    "    imagedata= pydicom.dcmread(ds)\n",
    "    img = imagedata.pixel_array.astype(float)\n",
    "    scaled_image = (np.maximum(img, 0) / img.max()) * 255.0\n",
    "    scaled_image = np.uint8(scaled_image)\n",
    "    final_image = Image.fromarray(scaled_image)\n",
    "    parent_path='Patients/Original/'\n",
    "\n",
    "    if not os.path.exists(parent_path):\n",
    "        os.makedirs(parent_path)\n",
    "    \n",
    "    a = pydicom.dcmread(ds).PatientID\n",
    "    \n",
    "    # if we have PatientID, if it is not '' , then create folders with PatientID\n",
    "    # else create folders with the name of images ignoring the last three characters\n",
    "\n",
    "    if  a!= '':\n",
    "        path = os.path.join(parent_path, a)\n",
    "        if not os.path.exists(path):\n",
    "            os.makedirs(path)\n",
    "            final_image.save((path +'/{}.png').format(fn_name))\n",
    "            dicom_to_color(ds,a)\n",
    "            os.remove(ds)\n",
    "            #cv2.imwrite((path +'/{}.png').format(fn_name),final_image)\n",
    "        else:\n",
    "            final_image.save((path +'/{}.png').format(fn_name))\n",
    "            dicom_to_color(ds,a)\n",
    "            os.remove(ds)\n",
    "    else:\n",
    "        sub_folder = fn_name[:-3]\n",
    "        path = os.path.join(parent_path, sub_folder)\n",
    "        if not os.path.exists(path):\n",
    "            os.makedirs(path)\n",
    "            final_image.save((path +'/{}.png').format(fn_name))\n",
    "            dicom_to_color(ds,sub_folder)\n",
    "            os.remove(ds)\n",
    "            #cv2.imwrite((path +'/{}.png').format(fn_name),final_image)\n",
    "        else:\n",
    "            final_image.save((path +'/{}.png').format(fn_name))\n",
    "            dicom_to_color(ds,sub_folder)\n",
    "            os.remove(ds)\n",
    "            #cv2.imwrite((path +'/{}.png').format(fn_name),final_image)\n",
    "        #plt.imshow(img)\n",
    "        #plt.show()"
   ]
  },
  {
   "cell_type": "code",
   "execution_count": 9,
   "metadata": {},
   "outputs": [],
   "source": [
    "def dicom_to_color(ds,sub_folder):\n",
    "    fn_name = ds.split('/')[-1][:-4]\n",
    "    imagedata= pydicom.dcmread(ds)\n",
    "    img = imagedata.pixel_array.astype(float)\n",
    "    scaled_image = (np.maximum(img, 0) / img.max()) * 255.0\n",
    "    scaled_image = np.uint8(scaled_image)\n",
    "    parent_path='Patients/Color_images/'\n",
    "    \n",
    "    path = os.path.join(parent_path, sub_folder)\n",
    "    \n",
    "    if not os.path.exists(path):\n",
    "        os.makedirs(path)\n",
    "    plt.imsave((path +'/{}.png').format(fn_name), scaled_image, cmap = 'turbo')\n",
    "    #final_image = Image.fromarray(scaled_image)"
   ]
  },
  {
   "cell_type": "code",
   "execution_count": 10,
   "metadata": {},
   "outputs": [],
   "source": [
    "def all_dicom_convert(path2):\n",
    "    for filename in os.listdir(path2):\n",
    "        ds=path2 + filename\n",
    "        dicom_to_png(ds)\n",
    "    #os.rmdir(path2)\n",
    "        \n",
    "    "
   ]
  },
  {
   "cell_type": "code",
   "execution_count": 11,
   "metadata": {},
   "outputs": [],
   "source": [
    "all_dicom_convert('dicomsfile/') # type here file name where all dicoms located"
   ]
  },
  {
   "cell_type": "code",
   "execution_count": null,
   "metadata": {},
   "outputs": [],
   "source": []
  },
  {
   "cell_type": "code",
   "execution_count": null,
   "metadata": {},
   "outputs": [],
   "source": []
  }
 ],
 "metadata": {
  "kernelspec": {
   "display_name": "Python 3",
   "language": "python",
   "name": "python3"
  },
  "language_info": {
   "codemirror_mode": {
    "name": "ipython",
    "version": 3
   },
   "file_extension": ".py",
   "mimetype": "text/x-python",
   "name": "python",
   "nbconvert_exporter": "python",
   "pygments_lexer": "ipython3",
   "version": "3.7.6"
  }
 },
 "nbformat": 4,
 "nbformat_minor": 4
}
