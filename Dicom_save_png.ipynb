{
 "cells": [
  {
   "cell_type": "code",
   "execution_count": 3,
   "metadata": {},
   "outputs": [
    {
     "name": "stdout",
     "output_type": "stream",
     "text": [
      "Collecting opencv-python\n",
      "  Downloading opencv_python-4.7.0.72-cp37-abi3-win_amd64.whl (38.2 MB)\n",
      "Requirement already satisfied: numpy>=1.17.0; python_version >= \"3.7\" in c:\\users\\user\\anaconda3\\lib\\site-packages (from opencv-python) (1.21.6)\n",
      "Installing collected packages: opencv-python\n",
      "Successfully installed opencv-python-4.7.0.72\n"
     ]
    }
   ],
   "source": [
    "#!pip install opencv-python"
   ]
  },
  {
   "cell_type": "code",
   "execution_count": 23,
   "metadata": {},
   "outputs": [],
   "source": [
    "import pydicom\n",
    "from pydicom import dcmread\n",
    "from skimage.transform import resize \n",
    "import cv2\n",
    "import numpy as np\n",
    "from matplotlib import pyplot as plt \n",
    "from PIL import Image\n",
    "import os.path"
   ]
  },
  {
   "cell_type": "code",
   "execution_count": 24,
   "metadata": {},
   "outputs": [],
   "source": [
    "def dicom_to_png(ds):\n",
    "    fn_name = ds.split('/')[-1][:-4]\n",
    "    imagedata= pydicom.dcmread(ds)\n",
    "    img =imagedata.pixel_array\n",
    "    parent_path='Patients'\n",
    "    if not os.path.exists(parent_path):\n",
    "        os.makedirs(parent_path)\n",
    "    path = os.path.join(parent_path, imagedata.PatientID)\n",
    "    if not os.path.exists(path):\n",
    "        os.makedirs(path)\n",
    "        cv2.imwrite((path +'/{}.png').format(fn_name), img * 255)\n",
    "    else:\n",
    "        cv2.imwrite((path +'/{}.png').format(fn_name), img * 255)\n",
    "    #plt.imshow(img)\n",
    "    #plt.show()"
   ]
  },
  {
   "cell_type": "code",
   "execution_count": 26,
   "metadata": {},
   "outputs": [],
   "source": [
    "ds = '361203119.dcm' \n",
    "\n",
    "#for i in range(1,101):\n",
    "#  ds='dicom/'+str(i)+'.dcm'\n",
    "#  dicom_to_png(ds)\n",
    "\n"
   ]
  },
  {
   "cell_type": "code",
   "execution_count": 27,
   "metadata": {},
   "outputs": [
    {
     "name": "stderr",
     "output_type": "stream",
     "text": [
      "C:\\Users\\USER\\anaconda3\\lib\\site-packages\\openjpeg\\utils.py:177: UserWarning: The (7FE0,0010) Pixel Data contains a JPEG 2000 codestream with the optional JP2 file format header, which is non-conformant to the DICOM Standard (Part 5, Annex A.4.4)\n",
      "  \"The (7FE0,0010) Pixel Data contains a JPEG 2000 codestream \"\n",
      "C:\\Users\\USER\\anaconda3\\lib\\site-packages\\openjpeg\\utils.py:210: UserWarning: The (0028,0101) Bits Stored value '12' in the dataset does not match the component precision value '16' found in the JPEG 2000 data. It's recommended that you change the Bits Stored value to produce the correct output\n",
      "  f\"The (0028,0101) Bits Stored value '{bits_stored}' in the \"\n"
     ]
    }
   ],
   "source": [
    "dicom_to_png(ds)"
   ]
  },
  {
   "cell_type": "code",
   "execution_count": null,
   "metadata": {},
   "outputs": [],
   "source": []
  },
  {
   "cell_type": "code",
   "execution_count": null,
   "metadata": {},
   "outputs": [],
   "source": []
  }
 ],
 "metadata": {
  "kernelspec": {
   "display_name": "Python 3",
   "language": "python",
   "name": "python3"
  },
  "language_info": {
   "codemirror_mode": {
    "name": "ipython",
    "version": 3
   },
   "file_extension": ".py",
   "mimetype": "text/x-python",
   "name": "python",
   "nbconvert_exporter": "python",
   "pygments_lexer": "ipython3",
   "version": "3.7.6"
  }
 },
 "nbformat": 4,
 "nbformat_minor": 4
}
